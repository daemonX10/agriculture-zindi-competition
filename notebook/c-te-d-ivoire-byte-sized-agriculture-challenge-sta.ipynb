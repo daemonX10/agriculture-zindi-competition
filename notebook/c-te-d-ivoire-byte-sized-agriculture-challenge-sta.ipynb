{
 "cells": [
  {
   "cell_type": "markdown",
   "id": "e7b552ef",
   "metadata": {},
   "source": [
    "# Crop Type Classification - Geometry-Based Starter\n",
    "\n",
    "Using only the provided GeoJSON files to create features from field geometries"
   ]
  },
  {
   "cell_type": "code",
   "execution_count": null,
   "id": "008baf8a",
   "metadata": {},
   "outputs": [],
   "source": [
    "import geopandas as gpd\n",
    "import numpy as np\n",
    "import pandas as pd\n",
    "from sklearn.ensemble import RandomForestClassifier\n",
    "from sklearn.model_selection import train_test_split\n",
    "from sklearn.metrics import accuracy_score, f1_score\n",
    "import matplotlib.pyplot as plt\n",
    "from shapely.geometry import Polygon, MultiPolygon"
   ]
  },
  {
   "cell_type": "markdown",
   "id": "daa16266",
   "metadata": {},
   "source": [
    "## 1. Load and Prepare Data"
   ]
  },
  {
   "cell_type": "code",
   "execution_count": null,
   "id": "dfe8db6c",
   "metadata": {},
   "outputs": [],
   "source": [
    "# Load training data\n",
    "train = gpd.read_file('/kaggle/input/ctedivoire-byte-sizedagriculturechallengedataset/train.geojson')\n",
    "print(f\"Training samples: {len(train)}\")\n",
    "print(\"Crop types distribution:\")\n",
    "print(train['crop'].value_counts())\n",
    "\n",
    "# Load test data\n",
    "test = gpd.read_file('/kaggle/input/ctedivoire-byte-sizedagriculturechallengedataset/test.geojson')\n",
    "print(f\"\\nTest samples: {len(test)}\")"
   ]
  },
  {
   "cell_type": "markdown",
   "id": "2284bf02",
   "metadata": {},
   "source": [
    "## 2. Feature Engineering from Geometries"
   ]
  },
  {
   "cell_type": "code",
   "execution_count": null,
   "id": "89534137",
   "metadata": {},
   "outputs": [],
   "source": [
    "def extract_geometry_features(gdf):\n",
    "    \"\"\"Extract features from polygon geometries\"\"\"\n",
    "    features = []\n",
    "    \n",
    "    for geom in gdf.geometry:\n",
    "        # Handle both Polygon and MultiPolygon\n",
    "        if geom.geom_type == 'MultiPolygon':\n",
    "            areas = [p.area for p in geom.geoms]\n",
    "            perims = [p.length for p in geom.geoms]\n",
    "            poly = geom.geoms[0]  # Take largest polygon for other features\n",
    "        else:\n",
    "            areas = [geom.area]\n",
    "            perims = [geom.length]\n",
    "            poly = geom\n",
    "            \n",
    "        # Basic shape features\n",
    "        area = sum(areas)\n",
    "        perimeter = sum(perims)\n",
    "        compactness = (4 * np.pi * area) / (perimeter ** 2)\n",
    "        \n",
    "        # Convex hull features\n",
    "        convex_hull = poly.convex_hull\n",
    "        hull_area = convex_hull.area\n",
    "        solidity = area / hull_area if hull_area > 0 else 0\n",
    "        \n",
    "        # Bounding box features\n",
    "        minx, miny, maxx, maxy = poly.bounds\n",
    "        width = maxx - minx\n",
    "        height = maxy - miny\n",
    "        aspect_ratio = width / height if height > 0 else 0\n",
    "        \n",
    "        # Moment invariants\n",
    "        coords = np.array(poly.exterior.coords)\n",
    "        dx = coords[:,0] - minx\n",
    "        dy = coords[:,1] - miny\n",
    "        m00 = area\n",
    "        m10 = np.sum(dx)\n",
    "        m01 = np.sum(dy)\n",
    "        centroid_x = m10 / m00\n",
    "        centroid_y = m01 / m00\n",
    "        mu20 = np.sum((dx - centroid_x)**2) / m00\n",
    "        mu02 = np.sum((dy - centroid_y)**2) / m00\n",
    "        mu11 = np.sum((dx - centroid_x)*(dy - centroid_y)) / m00\n",
    "        \n",
    "        features.append({\n",
    "            'area': area,\n",
    "            'perimeter': perimeter,\n",
    "            'compactness': compactness,\n",
    "            'solidity': solidity,\n",
    "            'aspect_ratio': aspect_ratio,\n",
    "            'num_polygons': len(areas),\n",
    "            'largest_area': max(areas),\n",
    "            'smallest_area': min(areas),\n",
    "            'mean_area': np.mean(areas),\n",
    "            'area_std': np.std(areas),\n",
    "            'mu20': mu20,\n",
    "            'mu02': mu02,\n",
    "            'mu11': mu11,\n",
    "            'width': width,\n",
    "            'height': height\n",
    "        })\n",
    "    \n",
    "    return pd.DataFrame(features)\n",
    "\n",
    "# Extract features\n",
    "train_features = extract_geometry_features(train)\n",
    "test_features = extract_geometry_features(test)\n",
    "\n",
    "# Add target\n",
    "train_features['crop'] = train['crop'].values\n",
    "\n",
    "# Show features\n",
    "print(\"\\nTraining features:\")\n",
    "print(train_features.head())"
   ]
  },
  {
   "cell_type": "markdown",
   "id": "a98c378f",
   "metadata": {},
   "source": [
    "## 3. Train/Test Split"
   ]
  },
  {
   "cell_type": "code",
   "execution_count": null,
   "id": "32319a39",
   "metadata": {},
   "outputs": [],
   "source": [
    "# Prepare data\n",
    "X = train_features.drop('crop', axis=1)\n",
    "y = train_features['crop']\n",
    "\n",
    "# Split into train/validation\n",
    "X_train, X_val, y_train, y_val = train_test_split(\n",
    "    X, y, test_size=0.2, random_state=42, stratify=y\n",
    ")"
   ]
  },
  {
   "cell_type": "markdown",
   "id": "134a1569",
   "metadata": {},
   "source": [
    "## 4. Model Training"
   ]
  },
  {
   "cell_type": "code",
   "execution_count": null,
   "id": "79adf77d",
   "metadata": {},
   "outputs": [],
   "source": [
    "# Train Random Forest\n",
    "model = RandomForestClassifier(\n",
    "    n_estimators=200,\n",
    "    max_depth=10,\n",
    "    min_samples_split=5,\n",
    "    random_state=42,\n",
    "    class_weight='balanced'\n",
    ")\n",
    "model.fit(X_train, y_train)\n",
    "\n",
    "# Evaluate\n",
    "val_preds = model.predict(X_val)\n",
    "accuracy = accuracy_score(y_val, val_preds)\n",
    "f1 = f1_score(y_val, val_preds, average='weighted')\n",
    "\n",
    "print(f\"Validation Accuracy: {accuracy:.3f}\")\n",
    "print(f\"Validation F1 Score: {f1:.3f}\")\n",
    "\n",
    "# Feature importance\n",
    "feat_importances = pd.Series(model.feature_importances_, index=X.columns)\n",
    "feat_importances.nlargest(10).plot(kind='barh')\n",
    "plt.title('Top 10 Important Features')\n",
    "plt.show()"
   ]
  },
  {
   "cell_type": "markdown",
   "id": "aa91bc74",
   "metadata": {},
   "source": [
    "## 5. Make Predictions and Create Submission"
   ]
  },
  {
   "cell_type": "code",
   "execution_count": null,
   "id": "110bdcef",
   "metadata": {},
   "outputs": [],
   "source": [
    "# Predict on test set\n",
    "test_preds = model.predict(test_features)\n",
    "test_ids = test['ID']\n",
    "# Create submission\n",
    "submission = pd.DataFrame({\n",
    "    'ID':test_ids ,\n",
    "    'Target': test_preds  # Assuming the submission requires this column name\n",
    "})\n",
    "\n",
    "\n",
    "# Save\n",
    "submission.to_csv('submission.csv', index=False)\n",
    "print(\"\\nSubmission saved:\")\n",
    "print(submission.head())"
   ]
  },
  {
   "cell_type": "markdown",
   "id": "5e4fb232",
   "metadata": {},
   "source": [
    "## 6. Visualize Feature Relationships"
   ]
  },
  {
   "cell_type": "code",
   "execution_count": null,
   "id": "1a4df445",
   "metadata": {},
   "outputs": [],
   "source": [
    "# Plot some key feature relationships\n",
    "plt.figure(figsize=(15, 5))\n",
    "\n",
    "plt.subplot(131)\n",
    "for crop in train['crop'].unique():\n",
    "    subset = train_features[train_features['crop'] == crop]\n",
    "    plt.scatter(subset['area'], subset['perimeter'], label=crop, alpha=0.5)\n",
    "plt.xlabel('Area')\n",
    "plt.ylabel('Perimeter')\n",
    "plt.legend()\n",
    "\n",
    "plt.subplot(132)\n",
    "for crop in train['crop'].unique():\n",
    "    subset = train_features[train_features['crop'] == crop]\n",
    "    plt.scatter(subset['compactness'], subset['solidity'], label=crop, alpha=0.5)\n",
    "plt.xlabel('Compactness')\n",
    "plt.ylabel('Solidity')\n",
    "\n",
    "plt.subplot(133)\n",
    "for crop in train['crop'].unique():\n",
    "    subset = train_features[train_features['crop'] == crop]\n",
    "    plt.scatter(subset['aspect_ratio'], subset['mu20'], label=crop, alpha=0.5)\n",
    "plt.xlabel('Aspect Ratio')\n",
    "plt.ylabel('Moment 20')\n",
    "\n",
    "plt.tight_layout()\n",
    "plt.show()"
   ]
  },
  {
   "cell_type": "code",
   "execution_count": null,
   "id": "f6da3a0d",
   "metadata": {
    "execution": {
     "iopub.execute_input": "2025-04-25T22:27:13.562018Z",
     "iopub.status.busy": "2025-04-25T22:27:13.561705Z",
     "iopub.status.idle": "2025-04-25T22:27:13.575117Z",
     "shell.execute_reply": "2025-04-25T22:27:13.574132Z",
     "shell.execute_reply.started": "2025-04-25T22:27:13.561996Z"
    },
    "papermill": {
     "duration": 0.005855,
     "end_time": "2025-04-25T22:31:09.236372",
     "exception": false,
     "start_time": "2025-04-25T22:31:09.230517",
     "status": "completed"
    },
    "tags": []
   },
   "outputs": [],
   "source": []
  }
 ],
 "metadata": {
  "kaggle": {
   "accelerator": "none",
   "dataSources": [
    {
     "datasetId": 7253429,
     "sourceId": 11569366,
     "sourceType": "datasetVersion"
    }
   ],
   "dockerImageVersionId": 31012,
   "isGpuEnabled": false,
   "isInternetEnabled": true,
   "language": "python",
   "sourceType": "notebook"
  },
  "kernelspec": {
   "display_name": "Python 3",
   "language": "python",
   "name": "python3"
  },
  "language_info": {
   "codemirror_mode": {
    "name": "ipython",
    "version": 3
   },
   "file_extension": ".py",
   "mimetype": "text/x-python",
   "name": "python",
   "nbconvert_exporter": "python",
   "pygments_lexer": "ipython3",
   "version": "3.11.11"
  },
  "papermill": {
   "default_parameters": {},
   "duration": 13.161424,
   "end_time": "2025-04-25T22:31:10.063611",
   "environment_variables": {},
   "exception": null,
   "input_path": "__notebook__.ipynb",
   "output_path": "__notebook__.ipynb",
   "parameters": {},
   "start_time": "2025-04-25T22:30:56.902187",
   "version": "2.6.0"
  }
 },
 "nbformat": 4,
 "nbformat_minor": 5
}
