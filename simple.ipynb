{
 "cells": [
  {
   "cell_type": "markdown",
   "id": "ccc14955",
   "metadata": {},
   "source": [
    "# Zindi Agriculture Data Processing Pipeline\n",
    "\n",
    "This notebook organizes the Zindi Agriculture competition data into three different complexity levels:\n",
    "\n",
    "1. **Basic data**: Original data organized in a 'basic_data' folder\n",
    "2. **Intermediate data**: Enhanced with new features and dynamic analysis\n",
    "3. **Advanced data**: Most sophisticated features (to be implemented later)\n",
    "\n",
    "The Côte d'Ivoire Byte-Sized Agriculture Challenge requires classifying agricultural fields into three crop types (Cocoa, Palm, and Rubber) using Sentinel-2 satellite imagery."
   ]
  },
  {
   "cell_type": "markdown",
   "id": "49476cb9",
   "metadata": {},
   "source": [
    "## Import Required Libraries"
   ]
  },
  {
   "cell_type": "code",
   "execution_count": 34,
   "id": "287ca1a4",
   "metadata": {},
   "outputs": [
    {
     "name": "stdout",
     "output_type": "stream",
     "text": [
      "Requirement already satisfied: pandas in .\\.venv\\lib\\site-packages (2.1.4)\n",
      "Requirement already satisfied: numpy in .\\.venv\\lib\\site-packages (1.26.4)\n",
      "Requirement already satisfied: matplotlib in .\\.venv\\lib\\site-packages (3.7.5)\n",
      "Requirement already satisfied: seaborn in .\\.venv\\lib\\site-packages (0.13.2)\n",
      "Requirement already satisfied: geopandas in .\\.venv\\lib\\site-packages (1.0.1)\n",
      "Requirement already satisfied: python-dateutil>=2.8.2 in .\\.venv\\lib\\site-packages (from pandas) (2.9.0.post0)\n",
      "Requirement already satisfied: pytz>=2020.1 in .\\.venv\\lib\\site-packages (from pandas) (2025.2)\n",
      "Requirement already satisfied: tzdata>=2022.1 in .\\.venv\\lib\\site-packages (from pandas) (2025.2)\n",
      "Requirement already satisfied: contourpy>=1.0.1 in .\\.venv\\lib\\site-packages (from matplotlib) (1.3.2)\n",
      "Requirement already satisfied: cycler>=0.10 in .\\.venv\\lib\\site-packages (from matplotlib) (0.12.1)\n",
      "Requirement already satisfied: fonttools>=4.22.0 in .\\.venv\\lib\\site-packages (from matplotlib) (4.57.0)\n",
      "Requirement already satisfied: kiwisolver>=1.0.1 in .\\.venv\\lib\\site-packages (from matplotlib) (1.4.8)\n",
      "Requirement already satisfied: packaging>=20.0 in .\\.venv\\lib\\site-packages (from matplotlib) (25.0)\n",
      "Requirement already satisfied: pillow>=6.2.0 in .\\.venv\\lib\\site-packages (from matplotlib) (11.2.1)\n",
      "Requirement already satisfied: pyparsing>=2.3.1 in .\\.venv\\lib\\site-packages (from matplotlib) (3.2.3)\n",
      "Requirement already satisfied: pyogrio>=0.7.2 in .\\.venv\\lib\\site-packages (from geopandas) (0.10.0)\n",
      "Requirement already satisfied: pyproj>=3.3.0 in .\\.venv\\lib\\site-packages (from geopandas) (3.7.1)\n",
      "Requirement already satisfied: shapely>=2.0.0 in .\\.venv\\lib\\site-packages (from geopandas) (2.1.0)\n",
      "Requirement already satisfied: certifi in .\\.venv\\lib\\site-packages (from pyogrio>=0.7.2->geopandas) (2025.4.26)\n",
      "Requirement already satisfied: six>=1.5 in .\\.venv\\lib\\site-packages (from python-dateutil>=2.8.2->pandas) (1.17.0)\n",
      "Note: you may need to restart the kernel to use updated packages.\n"
     ]
    }
   ],
   "source": [
    "pip install pandas numpy matplotlib seaborn geopandas"
   ]
  },
  {
   "cell_type": "code",
   "execution_count": 35,
   "id": "acb71a9c",
   "metadata": {},
   "outputs": [],
   "source": [
    "import os\n",
    "import pandas as pd\n",
    "import numpy as np\n",
    "import geopandas as gpd\n",
    "import matplotlib.pyplot as plt\n",
    "import seaborn as sns\n",
    "from pathlib import Path\n",
    "import warnings\n",
    "import json\n",
    "\n",
    "warnings.filterwarnings('ignore')\n",
    "\n",
    "# Set display options for pandas\n",
    "pd.set_option('display.max_columns', None)\n",
    "pd.set_option('display.max_rows', 100)"
   ]
  },
  {
   "cell_type": "markdown",
   "id": "58f1ef81",
   "metadata": {},
   "source": [
    "## Set Up Directory Structure\n",
    "\n",
    "Create directories for basic, intermediate, and advanced data processing."
   ]
  },
  {
   "cell_type": "code",
   "execution_count": 36,
   "id": "798bf541",
   "metadata": {},
   "outputs": [
    {
     "name": "stdout",
     "output_type": "stream",
     "text": [
      "Created directory structure in d:\\competition\\zindi-agriculture\\data\n"
     ]
    }
   ],
   "source": [
    "# Create output directories\n",
    "base_dir = Path('.')\n",
    "basic_dir = base_dir / 'basic_data'\n",
    "intermediate_dir = base_dir / 'intermediate_data'\n",
    "advanced_dir = base_dir / 'advanced_data'\n",
    "\n",
    "# Create directories if they don't exist\n",
    "for dir_path in [basic_dir, intermediate_dir, advanced_dir]:\n",
    "    os.makedirs(dir_path, exist_ok=True)\n",
    "    \n",
    "print(f\"Created directory structure in {base_dir.absolute()}\")"
   ]
  },
  {
   "cell_type": "markdown",
   "id": "5ed402b8",
   "metadata": {},
   "source": [
    "## Load and Explore Basic Data\n",
    "\n",
    "Let's load the original data files and explore their structure."
   ]
  },
  {
   "cell_type": "code",
   "execution_count": 37,
   "id": "9f3a176e",
   "metadata": {},
   "outputs": [
    {
     "name": "stdout",
     "output_type": "stream",
     "text": [
      "Sample Train Data Shape: (953, 6)\n",
      "Train GeoJSON Data Shape: (953, 5)\n",
      "Test GeoJSON Data Shape: (282, 3)\n",
      "Submission Template Shape: (282, 2)\n"
     ]
    }
   ],
   "source": [
    "# Load sample_train.csv\n",
    "sample_train_path = 'data/sample_train.csv'\n",
    "sample_train = pd.read_csv(sample_train_path)\n",
    "\n",
    "# Load train.geojson\n",
    "train_geo_path = 'data/train.geojson'\n",
    "train_geo = gpd.read_file(train_geo_path)\n",
    "\n",
    "# Load test.geojson\n",
    "test_geo_path = 'data/test.geojson'\n",
    "test_geo = gpd.read_file(test_geo_path)\n",
    "\n",
    "# Load submission template\n",
    "submission_path = 'data/SampleSubmission.csv'\n",
    "submission_template = pd.read_csv(submission_path)\n",
    "\n",
    "# Display basic information about the datasets\n",
    "print(\"Sample Train Data Shape:\", sample_train.shape)\n",
    "print(\"Train GeoJSON Data Shape:\", train_geo.shape)\n",
    "print(\"Test GeoJSON Data Shape:\", test_geo.shape)\n",
    "print(\"Submission Template Shape:\", submission_template.shape)"
   ]
  },
  {
   "cell_type": "code",
   "execution_count": 38,
   "id": "c4095f3f",
   "metadata": {},
   "outputs": [
    {
     "name": "stdout",
     "output_type": "stream",
     "text": [
      "\n",
      "Sample Train Data:\n"
     ]
    },
    {
     "name": "stdout",
     "output_type": "stream",
     "text": [
      "\n",
      "Sample Train Data:\n"
     ]
    },
    {
     "data": {
      "text/html": [
       "<div>\n",
       "<style scoped>\n",
       "    .dataframe tbody tr th:only-of-type {\n",
       "        vertical-align: middle;\n",
       "    }\n",
       "\n",
       "    .dataframe tbody tr th {\n",
       "        vertical-align: top;\n",
       "    }\n",
       "\n",
       "    .dataframe thead th {\n",
       "        text-align: right;\n",
       "    }\n",
       "</style>\n",
       "<table border=\"1\" class=\"dataframe\">\n",
       "  <thead>\n",
       "    <tr style=\"text-align: right;\">\n",
       "      <th></th>\n",
       "      <th>ID</th>\n",
       "      <th>year</th>\n",
       "      <th>month</th>\n",
       "      <th>tifPath</th>\n",
       "      <th>Target</th>\n",
       "      <th>class</th>\n",
       "    </tr>\n",
       "  </thead>\n",
       "  <tbody>\n",
       "    <tr>\n",
       "      <th>0</th>\n",
       "      <td>ID_Mrbi2k_Jan</td>\n",
       "      <td>2024</td>\n",
       "      <td>Jan</td>\n",
       "      <td>/content/drive/MyDrive/all_images_s2/s2_Rubber...</td>\n",
       "      <td>Rubber</td>\n",
       "      <td>3</td>\n",
       "    </tr>\n",
       "    <tr>\n",
       "      <th>1</th>\n",
       "      <td>ID_ORmFYt_Jan</td>\n",
       "      <td>2024</td>\n",
       "      <td>Jan</td>\n",
       "      <td>/content/drive/MyDrive/all_images_s2/s2_Rubber...</td>\n",
       "      <td>Rubber</td>\n",
       "      <td>3</td>\n",
       "    </tr>\n",
       "    <tr>\n",
       "      <th>2</th>\n",
       "      <td>ID_2j2bjN_Jan</td>\n",
       "      <td>2024</td>\n",
       "      <td>Jan</td>\n",
       "      <td>/content/drive/MyDrive/all_images_s2/s2_Rubber...</td>\n",
       "      <td>Rubber</td>\n",
       "      <td>3</td>\n",
       "    </tr>\n",
       "    <tr>\n",
       "      <th>3</th>\n",
       "      <td>ID_GsdWS5_Jan</td>\n",
       "      <td>2024</td>\n",
       "      <td>Jan</td>\n",
       "      <td>/content/drive/MyDrive/all_images_s2/s2_Rubber...</td>\n",
       "      <td>Rubber</td>\n",
       "      <td>3</td>\n",
       "    </tr>\n",
       "    <tr>\n",
       "      <th>4</th>\n",
       "      <td>ID_zEYtR5_Jan</td>\n",
       "      <td>2024</td>\n",
       "      <td>Jan</td>\n",
       "      <td>/content/drive/MyDrive/all_images_s2/s2_Rubber...</td>\n",
       "      <td>Rubber</td>\n",
       "      <td>3</td>\n",
       "    </tr>\n",
       "  </tbody>\n",
       "</table>\n",
       "</div>"
      ],
      "text/plain": [
       "              ID  year month  \\\n",
       "0  ID_Mrbi2k_Jan  2024   Jan   \n",
       "1  ID_ORmFYt_Jan  2024   Jan   \n",
       "2  ID_2j2bjN_Jan  2024   Jan   \n",
       "3  ID_GsdWS5_Jan  2024   Jan   \n",
       "4  ID_zEYtR5_Jan  2024   Jan   \n",
       "\n",
       "                                             tifPath  Target  class  \n",
       "0  /content/drive/MyDrive/all_images_s2/s2_Rubber...  Rubber      3  \n",
       "1  /content/drive/MyDrive/all_images_s2/s2_Rubber...  Rubber      3  \n",
       "2  /content/drive/MyDrive/all_images_s2/s2_Rubber...  Rubber      3  \n",
       "3  /content/drive/MyDrive/all_images_s2/s2_Rubber...  Rubber      3  \n",
       "4  /content/drive/MyDrive/all_images_s2/s2_Rubber...  Rubber      3  "
      ]
     },
     "metadata": {},
     "output_type": "display_data"
    },
    {
     "name": "stdout",
     "output_type": "stream",
     "text": [
      "\n",
      "Class Distribution:\n"
     ]
    },
    {
     "data": {
      "text/plain": [
       "Target\n",
       "Rubber    405\n",
       "Palm      313\n",
       "Cocoa     235\n",
       "Name: count, dtype: int64"
      ]
     },
     "metadata": {},
     "output_type": "display_data"
    },
    {
     "name": "stdout",
     "output_type": "stream",
     "text": [
      "\n",
      "Target to Class Mapping:\n"
     ]
    },
    {
     "name": "stdout",
     "output_type": "stream",
     "text": [
      "\n",
      "Sample Train Data:\n"
     ]
    },
    {
     "data": {
      "text/html": [
       "<div>\n",
       "<style scoped>\n",
       "    .dataframe tbody tr th:only-of-type {\n",
       "        vertical-align: middle;\n",
       "    }\n",
       "\n",
       "    .dataframe tbody tr th {\n",
       "        vertical-align: top;\n",
       "    }\n",
       "\n",
       "    .dataframe thead th {\n",
       "        text-align: right;\n",
       "    }\n",
       "</style>\n",
       "<table border=\"1\" class=\"dataframe\">\n",
       "  <thead>\n",
       "    <tr style=\"text-align: right;\">\n",
       "      <th></th>\n",
       "      <th>ID</th>\n",
       "      <th>year</th>\n",
       "      <th>month</th>\n",
       "      <th>tifPath</th>\n",
       "      <th>Target</th>\n",
       "      <th>class</th>\n",
       "    </tr>\n",
       "  </thead>\n",
       "  <tbody>\n",
       "    <tr>\n",
       "      <th>0</th>\n",
       "      <td>ID_Mrbi2k_Jan</td>\n",
       "      <td>2024</td>\n",
       "      <td>Jan</td>\n",
       "      <td>/content/drive/MyDrive/all_images_s2/s2_Rubber...</td>\n",
       "      <td>Rubber</td>\n",
       "      <td>3</td>\n",
       "    </tr>\n",
       "    <tr>\n",
       "      <th>1</th>\n",
       "      <td>ID_ORmFYt_Jan</td>\n",
       "      <td>2024</td>\n",
       "      <td>Jan</td>\n",
       "      <td>/content/drive/MyDrive/all_images_s2/s2_Rubber...</td>\n",
       "      <td>Rubber</td>\n",
       "      <td>3</td>\n",
       "    </tr>\n",
       "    <tr>\n",
       "      <th>2</th>\n",
       "      <td>ID_2j2bjN_Jan</td>\n",
       "      <td>2024</td>\n",
       "      <td>Jan</td>\n",
       "      <td>/content/drive/MyDrive/all_images_s2/s2_Rubber...</td>\n",
       "      <td>Rubber</td>\n",
       "      <td>3</td>\n",
       "    </tr>\n",
       "    <tr>\n",
       "      <th>3</th>\n",
       "      <td>ID_GsdWS5_Jan</td>\n",
       "      <td>2024</td>\n",
       "      <td>Jan</td>\n",
       "      <td>/content/drive/MyDrive/all_images_s2/s2_Rubber...</td>\n",
       "      <td>Rubber</td>\n",
       "      <td>3</td>\n",
       "    </tr>\n",
       "    <tr>\n",
       "      <th>4</th>\n",
       "      <td>ID_zEYtR5_Jan</td>\n",
       "      <td>2024</td>\n",
       "      <td>Jan</td>\n",
       "      <td>/content/drive/MyDrive/all_images_s2/s2_Rubber...</td>\n",
       "      <td>Rubber</td>\n",
       "      <td>3</td>\n",
       "    </tr>\n",
       "  </tbody>\n",
       "</table>\n",
       "</div>"
      ],
      "text/plain": [
       "              ID  year month  \\\n",
       "0  ID_Mrbi2k_Jan  2024   Jan   \n",
       "1  ID_ORmFYt_Jan  2024   Jan   \n",
       "2  ID_2j2bjN_Jan  2024   Jan   \n",
       "3  ID_GsdWS5_Jan  2024   Jan   \n",
       "4  ID_zEYtR5_Jan  2024   Jan   \n",
       "\n",
       "                                             tifPath  Target  class  \n",
       "0  /content/drive/MyDrive/all_images_s2/s2_Rubber...  Rubber      3  \n",
       "1  /content/drive/MyDrive/all_images_s2/s2_Rubber...  Rubber      3  \n",
       "2  /content/drive/MyDrive/all_images_s2/s2_Rubber...  Rubber      3  \n",
       "3  /content/drive/MyDrive/all_images_s2/s2_Rubber...  Rubber      3  \n",
       "4  /content/drive/MyDrive/all_images_s2/s2_Rubber...  Rubber      3  "
      ]
     },
     "metadata": {},
     "output_type": "display_data"
    },
    {
     "name": "stdout",
     "output_type": "stream",
     "text": [
      "\n",
      "Class Distribution:\n"
     ]
    },
    {
     "data": {
      "text/plain": [
       "Target\n",
       "Rubber    405\n",
       "Palm      313\n",
       "Cocoa     235\n",
       "Name: count, dtype: int64"
      ]
     },
     "metadata": {},
     "output_type": "display_data"
    },
    {
     "name": "stdout",
     "output_type": "stream",
     "text": [
      "\n",
      "Target to Class Mapping:\n"
     ]
    },
    {
     "data": {
      "text/html": [
       "<div>\n",
       "<style scoped>\n",
       "    .dataframe tbody tr th:only-of-type {\n",
       "        vertical-align: middle;\n",
       "    }\n",
       "\n",
       "    .dataframe tbody tr th {\n",
       "        vertical-align: top;\n",
       "    }\n",
       "\n",
       "    .dataframe thead th {\n",
       "        text-align: right;\n",
       "    }\n",
       "</style>\n",
       "<table border=\"1\" class=\"dataframe\">\n",
       "  <thead>\n",
       "    <tr style=\"text-align: right;\">\n",
       "      <th></th>\n",
       "      <th>Target</th>\n",
       "      <th>class</th>\n",
       "    </tr>\n",
       "  </thead>\n",
       "  <tbody>\n",
       "    <tr>\n",
       "      <th>0</th>\n",
       "      <td>Rubber</td>\n",
       "      <td>3</td>\n",
       "    </tr>\n",
       "    <tr>\n",
       "      <th>6</th>\n",
       "      <td>Palm</td>\n",
       "      <td>2</td>\n",
       "    </tr>\n",
       "    <tr>\n",
       "      <th>90</th>\n",
       "      <td>Cocoa</td>\n",
       "      <td>1</td>\n",
       "    </tr>\n",
       "  </tbody>\n",
       "</table>\n",
       "</div>"
      ],
      "text/plain": [
       "    Target  class\n",
       "0   Rubber      3\n",
       "6     Palm      2\n",
       "90   Cocoa      1"
      ]
     },
     "metadata": {},
     "output_type": "display_data"
    }
   ],
   "source": [
    "# Examine sample_train.csv\n",
    "print(\"\\nSample Train Data:\")\n",
    "display(sample_train.head())\n",
    "\n",
    "# Examine class distribution\n",
    "print(\"\\nClass Distribution:\")\n",
    "display(sample_train['Target'].value_counts())\n",
    "\n",
    "# Check the mapping of Target to class\n",
    "print(\"\\nTarget to Class Mapping:\")\n",
    "display(sample_train[['Target', 'class']].drop_duplicates())"
   ]
  },
  {
   "cell_type": "code",
   "execution_count": 39,
   "id": "c73c058f",
   "metadata": {},
   "outputs": [
    {
     "name": "stdout",
     "output_type": "stream",
     "text": [
      "\n",
      "Train GeoJSON Sample:\n"
     ]
    },
    {
     "name": "stdout",
     "output_type": "stream",
     "text": [
      "\n",
      "Train GeoJSON Sample:\n"
     ]
    },
    {
     "data": {
      "text/html": [
       "<div>\n",
       "<style scoped>\n",
       "    .dataframe tbody tr th:only-of-type {\n",
       "        vertical-align: middle;\n",
       "    }\n",
       "\n",
       "    .dataframe tbody tr th {\n",
       "        vertical-align: top;\n",
       "    }\n",
       "\n",
       "    .dataframe thead th {\n",
       "        text-align: right;\n",
       "    }\n",
       "</style>\n",
       "<table border=\"1\" class=\"dataframe\">\n",
       "  <thead>\n",
       "    <tr style=\"text-align: right;\">\n",
       "      <th></th>\n",
       "      <th>ID</th>\n",
       "      <th>year</th>\n",
       "      <th>crop</th>\n",
       "      <th>class</th>\n",
       "      <th>geometry</th>\n",
       "    </tr>\n",
       "  </thead>\n",
       "  <tbody>\n",
       "    <tr>\n",
       "      <th>0</th>\n",
       "      <td>ID_Mrbi2k</td>\n",
       "      <td>2024</td>\n",
       "      <td>Rubber</td>\n",
       "      <td>3</td>\n",
       "      <td>POLYGON ((-7.47662 4.79479, -7.47672 4.7947, -...</td>\n",
       "    </tr>\n",
       "    <tr>\n",
       "      <th>1</th>\n",
       "      <td>ID_ORmFYt</td>\n",
       "      <td>2024</td>\n",
       "      <td>Rubber</td>\n",
       "      <td>3</td>\n",
       "      <td>MULTIPOLYGON (((-7.11499 4.76768, -7.11471 4.7...</td>\n",
       "    </tr>\n",
       "  </tbody>\n",
       "</table>\n",
       "</div>"
      ],
      "text/plain": [
       "          ID  year    crop  class  \\\n",
       "0  ID_Mrbi2k  2024  Rubber      3   \n",
       "1  ID_ORmFYt  2024  Rubber      3   \n",
       "\n",
       "                                            geometry  \n",
       "0  POLYGON ((-7.47662 4.79479, -7.47672 4.7947, -...  \n",
       "1  MULTIPOLYGON (((-7.11499 4.76768, -7.11471 4.7...  "
      ]
     },
     "metadata": {},
     "output_type": "display_data"
    },
    {
     "name": "stdout",
     "output_type": "stream",
     "text": [
      "\n",
      "Test GeoJSON Sample:\n"
     ]
    },
    {
     "data": {
      "text/html": [
       "<div>\n",
       "<style scoped>\n",
       "    .dataframe tbody tr th:only-of-type {\n",
       "        vertical-align: middle;\n",
       "    }\n",
       "\n",
       "    .dataframe tbody tr th {\n",
       "        vertical-align: top;\n",
       "    }\n",
       "\n",
       "    .dataframe thead th {\n",
       "        text-align: right;\n",
       "    }\n",
       "</style>\n",
       "<table border=\"1\" class=\"dataframe\">\n",
       "  <thead>\n",
       "    <tr style=\"text-align: right;\">\n",
       "      <th></th>\n",
       "      <th>ID</th>\n",
       "      <th>year</th>\n",
       "      <th>geometry</th>\n",
       "    </tr>\n",
       "  </thead>\n",
       "  <tbody>\n",
       "    <tr>\n",
       "      <th>0</th>\n",
       "      <td>ID_UrUGR0</td>\n",
       "      <td>2024</td>\n",
       "      <td>POLYGON ((-7.56113 4.68498, -7.56119 4.68497, ...</td>\n",
       "    </tr>\n",
       "    <tr>\n",
       "      <th>1</th>\n",
       "      <td>ID_3ZmbBi</td>\n",
       "      <td>2024</td>\n",
       "      <td>POLYGON ((-7.53978 4.68285, -7.53978 4.68298, ...</td>\n",
       "    </tr>\n",
       "  </tbody>\n",
       "</table>\n",
       "</div>"
      ],
      "text/plain": [
       "          ID  year                                           geometry\n",
       "0  ID_UrUGR0  2024  POLYGON ((-7.56113 4.68498, -7.56119 4.68497, ...\n",
       "1  ID_3ZmbBi  2024  POLYGON ((-7.53978 4.68285, -7.53978 4.68298, ..."
      ]
     },
     "metadata": {},
     "output_type": "display_data"
    }
   ],
   "source": [
    "# Examine geometry data\n",
    "print(\"\\nTrain GeoJSON Sample:\")\n",
    "display(train_geo.head(2))\n",
    "\n",
    "print(\"\\nTest GeoJSON Sample:\")\n",
    "display(test_geo.head(2))"
   ]
  },
  {
   "cell_type": "markdown",
   "id": "25b43aed",
   "metadata": {},
   "source": [
    "## Basic Data Processing\n",
    "\n",
    "Process and save the basic data version to the 'basic_data' folder."
   ]
  },
  {
   "cell_type": "code",
   "execution_count": 40,
   "id": "821b97a5",
   "metadata": {},
   "outputs": [],
   "source": [
    "# Function to process IDs in sample_train\n",
    "def extract_id_base(id_str):\n",
    "    # Extract base ID (without month suffix)\n",
    "    parts = id_str.split('_')\n",
    "    if len(parts) >= 3:  # Format: ID_XXXXX_Month\n",
    "        return f\"ID_{parts[1]}\"\n",
    "    return id_str\n",
    "\n",
    "# Add base_id column to sample_train\n",
    "sample_train['base_id'] = sample_train['ID'].apply(extract_id_base)"
   ]
  },
  {
   "cell_type": "code",
   "execution_count": 41,
   "id": "12e9f4b1",
   "metadata": {},
   "outputs": [
    {
     "name": "stdout",
     "output_type": "stream",
     "text": [
      "Records with missing geometries: 0 out of 953\n"
     ]
    }
   ],
   "source": [
    "# Match the sample_train with train_geo to get geometries\n",
    "# First, extract base IDs for train_geo\n",
    "train_geo['base_id'] = train_geo['ID'].apply(lambda x: x)\n",
    "\n",
    "# Join sample_train with train_geo\n",
    "# We'll join on base_id because sample_train IDs have month suffixes\n",
    "# Convert to GeoDataFrame for better spatial operations\n",
    "basic_train = pd.merge(\n",
    "    sample_train,\n",
    "    train_geo[['ID', 'base_id', 'geometry']],\n",
    "    on='base_id',\n",
    "    how='left',\n",
    "    suffixes=('', '_geo')\n",
    ")\n",
    "\n",
    "# Check if we have missing geometries\n",
    "missing_geo = basic_train['geometry'].isna().sum()\n",
    "print(f\"Records with missing geometries: {missing_geo} out of {len(basic_train)}\")"
   ]
  },
  {
   "cell_type": "code",
   "execution_count": 42,
   "id": "2a08894c",
   "metadata": {},
   "outputs": [
    {
     "name": "stdout",
     "output_type": "stream",
     "text": [
      "Basic data saved to basic_data\n"
     ]
    }
   ],
   "source": [
    "# Save the basic datasets to basic_data folder\n",
    "basic_train.to_csv(basic_dir / 'basic_train.csv', index=False)\n",
    "\n",
    "# Also save the test and submission templates\n",
    "test_geo.to_file(basic_dir / 'basic_test.geojson', driver='GeoJSON')\n",
    "submission_template.to_csv(basic_dir / 'basic_submission_template.csv', index=False)\n",
    "\n",
    "print(f\"Basic data saved to {basic_dir}\")\n",
    "\n",
    "# Save a summary of the basic data\n",
    "with open(basic_dir / 'basic_data_summary.txt', 'w') as f:\n",
    "    f.write(f\"Sample Train Shape: {sample_train.shape}\\n\")\n",
    "    f.write(f\"Train GeoJSON Shape: {train_geo.shape}\\n\")\n",
    "    f.write(f\"Test GeoJSON Shape: {test_geo.shape}\\n\")\n",
    "    f.write(f\"Class Distribution:\\n{sample_train['Target'].value_counts().to_string()}\\n\")"
   ]
  },
  {
   "cell_type": "markdown",
   "id": "28a2a7a9",
   "metadata": {},
   "source": [
    "## Visualize Basic Data\n",
    "\n",
    "Create some visualizations of the basic dataset"
   ]
  },
  {
   "cell_type": "code",
   "execution_count": 43,
   "id": "f9a66fbc",
   "metadata": {},
   "outputs": [
    {
     "data": {
      "image/png": "[encoded data removed]",
      "text/plain": [
       "<Figure size 1000x600 with 1 Axes>"
      ]
     },
     "metadata": {},
     "output_type": "display_data"
    }
   ],
   "source": [
    "# Plot the class distribution\n",
    "plt.figure(figsize=(10, 6))\n",
    "sns.countplot(x='Target', data=sample_train, palette='viridis')\n",
    "plt.title('Distribution of Crop Types in Training Data')\n",
    "plt.xticks(rotation=0)\n",
    "plt.ylabel('Count')\n",
    "plt.xlabel('Crop Type')\n",
    "plt.tight_layout()\n",
    "plt.savefig(basic_dir / 'class_distribution.png')\n",
    "plt.show()"
   ]
  },
  {
   "cell_type": "code",
   "execution_count": 44,
   "id": "faf4ae2f",
   "metadata": {},
   "outputs": [
    {
     "data": {
      "image/png": "[encoded data removed]",
      "text/plain": [
       "<Figure size 1800x600 with 3 Axes>"
      ]
     },
     "metadata": {},
     "output_type": "display_data"
    }
   ],
   "source": [
    "# Plot a few sample geometries by crop type\n",
    "fig, ax = plt.subplots(1, 3, figsize=(18, 6))\n",
    "\n",
    "crop_types = ['Cocoa', 'Palm', 'Rubber']\n",
    "colors = ['green', 'orange', 'blue']\n",
    "\n",
    "for i, crop in enumerate(crop_types):\n",
    "    # Get sample geometries for this crop type\n",
    "    crop_ids = sample_train[sample_train['Target'] == crop]['base_id'].unique()[:5]\n",
    "    crop_geo = train_geo[train_geo['base_id'].isin(crop_ids)]\n",
    "    \n",
    "    if not crop_geo.empty:\n",
    "        crop_geo.plot(ax=ax[i], color=colors[i], alpha=0.7)\n",
    "        ax[i].set_title(f'{crop} Field Samples')\n",
    "        ax[i].set_axis_off()\n",
    "    else:\n",
    "        ax[i].text(0.5, 0.5, f\"No geometries found for {crop}\", \n",
    "                 horizontalalignment='center', verticalalignment='center')\n",
    "        ax[i].set_axis_off()\n",
    "\n",
    "plt.tight_layout()\n",
    "plt.savefig(basic_dir / 'sample_geometries.png')\n",
    "plt.show()"
   ]
  },
  {
   "cell_type": "markdown",
   "id": "41328234",
   "metadata": {},
   "source": [
    "## Intermediate Data Processing\n",
    "\n",
    "Create an enhanced version of the data with additional features."
   ]
  },
  {
   "cell_type": "code",
   "execution_count": 45,
   "id": "8986d6f7",
   "metadata": {},
   "outputs": [
    {
     "name": "stdout",
     "output_type": "stream",
     "text": [
      "Intermediate dataset with geometric features:\n"
     ]
    },
    {
     "data": {
      "text/html": [
       "<div>\n",
       "<style scoped>\n",
       "    .dataframe tbody tr th:only-of-type {\n",
       "        vertical-align: middle;\n",
       "    }\n",
       "\n",
       "    .dataframe tbody tr th {\n",
       "        vertical-align: top;\n",
       "    }\n",
       "\n",
       "    .dataframe thead th {\n",
       "        text-align: right;\n",
       "    }\n",
       "</style>\n",
       "<table border=\"1\" class=\"dataframe\">\n",
       "  <thead>\n",
       "    <tr style=\"text-align: right;\">\n",
       "      <th></th>\n",
       "      <th>ID</th>\n",
       "      <th>Target</th>\n",
       "      <th>area</th>\n",
       "      <th>perimeter</th>\n",
       "      <th>compactness</th>\n",
       "      <th>centroid_x</th>\n",
       "      <th>centroid_y</th>\n",
       "    </tr>\n",
       "  </thead>\n",
       "  <tbody>\n",
       "    <tr>\n",
       "      <th>0</th>\n",
       "      <td>ID_Mrbi2k_Jan</td>\n",
       "      <td>Rubber</td>\n",
       "      <td>1.006299e-06</td>\n",
       "      <td>0.004596</td>\n",
       "      <td>0.598582</td>\n",
       "      <td>-7.476488</td>\n",
       "      <td>4.794230</td>\n",
       "    </tr>\n",
       "    <tr>\n",
       "      <th>1</th>\n",
       "      <td>ID_ORmFYt_Jan</td>\n",
       "      <td>Rubber</td>\n",
       "      <td>2.381542e-07</td>\n",
       "      <td>0.002032</td>\n",
       "      <td>0.724642</td>\n",
       "      <td>-7.114945</td>\n",
       "      <td>4.767335</td>\n",
       "    </tr>\n",
       "    <tr>\n",
       "      <th>2</th>\n",
       "      <td>ID_2j2bjN_Jan</td>\n",
       "      <td>Rubber</td>\n",
       "      <td>2.659545e-07</td>\n",
       "      <td>0.002180</td>\n",
       "      <td>0.703360</td>\n",
       "      <td>-7.097499</td>\n",
       "      <td>4.900095</td>\n",
       "    </tr>\n",
       "    <tr>\n",
       "      <th>3</th>\n",
       "      <td>ID_GsdWS5_Jan</td>\n",
       "      <td>Rubber</td>\n",
       "      <td>8.467027e-07</td>\n",
       "      <td>0.004213</td>\n",
       "      <td>0.599510</td>\n",
       "      <td>-7.117723</td>\n",
       "      <td>4.768831</td>\n",
       "    </tr>\n",
       "    <tr>\n",
       "      <th>4</th>\n",
       "      <td>ID_zEYtR5_Jan</td>\n",
       "      <td>Rubber</td>\n",
       "      <td>5.250636e-07</td>\n",
       "      <td>0.002963</td>\n",
       "      <td>0.751780</td>\n",
       "      <td>-7.516597</td>\n",
       "      <td>4.662075</td>\n",
       "    </tr>\n",
       "  </tbody>\n",
       "</table>\n",
       "</div>"
      ],
      "text/plain": [
       "              ID  Target          area  perimeter  compactness  centroid_x  \\\n",
       "0  ID_Mrbi2k_Jan  Rubber  1.006299e-06   0.004596     0.598582   -7.476488   \n",
       "1  ID_ORmFYt_Jan  Rubber  2.381542e-07   0.002032     0.724642   -7.114945   \n",
       "2  ID_2j2bjN_Jan  Rubber  2.659545e-07   0.002180     0.703360   -7.097499   \n",
       "3  ID_GsdWS5_Jan  Rubber  8.467027e-07   0.004213     0.599510   -7.117723   \n",
       "4  ID_zEYtR5_Jan  Rubber  5.250636e-07   0.002963     0.751780   -7.516597   \n",
       "\n",
       "   centroid_y  \n",
       "0    4.794230  \n",
       "1    4.767335  \n",
       "2    4.900095  \n",
       "3    4.768831  \n",
       "4    4.662075  "
      ]
     },
     "metadata": {},
     "output_type": "display_data"
    }
   ],
   "source": [
    "# Create a copy of the basic_train for enhancement\n",
    "intermediate_train = basic_train.copy()\n",
    "\n",
    "# Add geometry features\n",
    "# Convert to GeoDataFrame to use spatial operations\n",
    "gdf = gpd.GeoDataFrame(intermediate_train, geometry='geometry')\n",
    "\n",
    "# Calculate basic geometric features\n",
    "gdf['area'] = gdf['geometry'].apply(lambda geom: geom.area if geom else None)\n",
    "gdf['perimeter'] = gdf['geometry'].apply(lambda geom: geom.length if geom else None)\n",
    "gdf['compactness'] = gdf.apply(lambda row: 4 * np.pi * row['area'] / (row['perimeter'] ** 2) \n",
    "                               if row['perimeter'] and row['area'] else None, axis=1)\n",
    "\n",
    "# Calculate centroid coordinates\n",
    "gdf['centroid_x'] = gdf['geometry'].apply(lambda geom: geom.centroid.x if geom else None)\n",
    "gdf['centroid_y'] = gdf['geometry'].apply(lambda geom: geom.centroid.y if geom else None)\n",
    "\n",
    "# Display enhanced dataset\n",
    "print(\"Intermediate dataset with geometric features:\")\n",
    "display(gdf[['ID', 'Target', 'area', 'perimeter', 'compactness', 'centroid_x', 'centroid_y']].head())"
   ]
  },
  {
   "cell_type": "code",
   "execution_count": 46,
   "id": "fb4e1090",
   "metadata": {},
   "outputs": [
    {
     "name": "stdout",
     "output_type": "stream",
     "text": [
      "\n",
      "Intermediate dataset with path extraction features:\n"
     ]
    },
    {
     "data": {
      "text/html": [
       "<div>\n",
       "<style scoped>\n",
       "    .dataframe tbody tr th:only-of-type {\n",
       "        vertical-align: middle;\n",
       "    }\n",
       "\n",
       "    .dataframe tbody tr th {\n",
       "        vertical-align: top;\n",
       "    }\n",
       "\n",
       "    .dataframe thead th {\n",
       "        text-align: right;\n",
       "    }\n",
       "</style>\n",
       "<table border=\"1\" class=\"dataframe\">\n",
       "  <thead>\n",
       "    <tr style=\"text-align: right;\">\n",
       "      <th></th>\n",
       "      <th>ID</th>\n",
       "      <th>Target</th>\n",
       "      <th>image_crop</th>\n",
       "      <th>image_id</th>\n",
       "      <th>image_year</th>\n",
       "      <th>image_month</th>\n",
       "    </tr>\n",
       "  </thead>\n",
       "  <tbody>\n",
       "    <tr>\n",
       "      <th>0</th>\n",
       "      <td>ID_Mrbi2k_Jan</td>\n",
       "      <td>Rubber</td>\n",
       "      <td>Rubber</td>\n",
       "      <td>Mrbi2k</td>\n",
       "      <td>2024</td>\n",
       "      <td>01</td>\n",
       "    </tr>\n",
       "    <tr>\n",
       "      <th>1</th>\n",
       "      <td>ID_ORmFYt_Jan</td>\n",
       "      <td>Rubber</td>\n",
       "      <td>Rubber</td>\n",
       "      <td>ORmFYt</td>\n",
       "      <td>2024</td>\n",
       "      <td>01</td>\n",
       "    </tr>\n",
       "    <tr>\n",
       "      <th>2</th>\n",
       "      <td>ID_2j2bjN_Jan</td>\n",
       "      <td>Rubber</td>\n",
       "      <td>Rubber</td>\n",
       "      <td>2j2bjN</td>\n",
       "      <td>2024</td>\n",
       "      <td>01</td>\n",
       "    </tr>\n",
       "    <tr>\n",
       "      <th>3</th>\n",
       "      <td>ID_GsdWS5_Jan</td>\n",
       "      <td>Rubber</td>\n",
       "      <td>Rubber</td>\n",
       "      <td>GsdWS5</td>\n",
       "      <td>2024</td>\n",
       "      <td>01</td>\n",
       "    </tr>\n",
       "    <tr>\n",
       "      <th>4</th>\n",
       "      <td>ID_zEYtR5_Jan</td>\n",
       "      <td>Rubber</td>\n",
       "      <td>Rubber</td>\n",
       "      <td>zEYtR5</td>\n",
       "      <td>2024</td>\n",
       "      <td>01</td>\n",
       "    </tr>\n",
       "  </tbody>\n",
       "</table>\n",
       "</div>"
      ],
      "text/plain": [
       "              ID  Target image_crop image_id image_year image_month\n",
       "0  ID_Mrbi2k_Jan  Rubber     Rubber   Mrbi2k       2024          01\n",
       "1  ID_ORmFYt_Jan  Rubber     Rubber   ORmFYt       2024          01\n",
       "2  ID_2j2bjN_Jan  Rubber     Rubber   2j2bjN       2024          01\n",
       "3  ID_GsdWS5_Jan  Rubber     Rubber   GsdWS5       2024          01\n",
       "4  ID_zEYtR5_Jan  Rubber     Rubber   zEYtR5       2024          01"
      ]
     },
     "metadata": {},
     "output_type": "display_data"
    }
   ],
   "source": [
    "# Add text features from the ID and file path\n",
    "gdf['path_length'] = gdf['tifPath'].apply(len)\n",
    "\n",
    "# Extract image info from path\n",
    "def extract_image_info(path):\n",
    "    if pd.isna(path):\n",
    "        return pd.Series({'image_crop': None, 'image_id': None, 'image_year': None, 'image_month': None})\n",
    "    \n",
    "    # Example path: /content/drive/MyDrive/all_images_s2/s2_Rubber_ID_Mrbi2k_2024_01.tif\n",
    "    try:\n",
    "        filename = os.path.basename(path)\n",
    "        parts = filename.split('_')\n",
    "        \n",
    "        if len(parts) >= 6:  # Format: s2_Crop_ID_XXXXX_YYYY_MM.tif\n",
    "            return pd.Series({\n",
    "                'image_crop': parts[1],\n",
    "                'image_id': parts[3],\n",
    "                'image_year': parts[4],\n",
    "                'image_month': parts[5].split('.')[0]\n",
    "            })\n",
    "    except Exception as e:\n",
    "        print(f\"Error processing path {path}: {e}\")\n",
    "    \n",
    "    return pd.Series({'image_crop': None, 'image_id': None, 'image_year': None, 'image_month': None})\n",
    "\n",
    "# Extract features from the path\n",
    "path_features = gdf['tifPath'].apply(extract_image_info)\n",
    "gdf = pd.concat([gdf, path_features], axis=1)\n",
    "\n",
    "# Display the enhanced features\n",
    "print(\"\\nIntermediate dataset with path extraction features:\")\n",
    "display(gdf[['ID', 'Target', 'image_crop', 'image_id', 'image_year', 'image_month']].head())"
   ]
  },
  {
   "cell_type": "code",
   "execution_count": 47,
   "id": "1c7e7527",
   "metadata": {},
   "outputs": [
    {
     "name": "stdout",
     "output_type": "stream",
     "text": [
      "\n",
      "Final Intermediate dataset:\n"
     ]
    },
    {
     "name": "stdout",
     "output_type": "stream",
     "text": [
      "\n",
      "Final Intermediate dataset:\n"
     ]
    },
    {
     "data": {
      "text/html": [
       "<div>\n",
       "<style scoped>\n",
       "    .dataframe tbody tr th:only-of-type {\n",
       "        vertical-align: middle;\n",
       "    }\n",
       "\n",
       "    .dataframe tbody tr th {\n",
       "        vertical-align: top;\n",
       "    }\n",
       "\n",
       "    .dataframe thead th {\n",
       "        text-align: right;\n",
       "    }\n",
       "</style>\n",
       "<table border=\"1\" class=\"dataframe\">\n",
       "  <thead>\n",
       "    <tr style=\"text-align: right;\">\n",
       "      <th></th>\n",
       "      <th>ID</th>\n",
       "      <th>year</th>\n",
       "      <th>month</th>\n",
       "      <th>tifPath</th>\n",
       "      <th>Target</th>\n",
       "      <th>class</th>\n",
       "      <th>base_id</th>\n",
       "      <th>ID_geo</th>\n",
       "      <th>geometry</th>\n",
       "      <th>area</th>\n",
       "      <th>perimeter</th>\n",
       "      <th>compactness</th>\n",
       "      <th>centroid_x</th>\n",
       "      <th>centroid_y</th>\n",
       "      <th>path_length</th>\n",
       "      <th>image_crop</th>\n",
       "      <th>image_id</th>\n",
       "      <th>image_year</th>\n",
       "      <th>image_month</th>\n",
       "      <th>area_perimeter_ratio</th>\n",
       "      <th>month_cat</th>\n",
       "      <th>month_Jan</th>\n",
       "    </tr>\n",
       "  </thead>\n",
       "  <tbody>\n",
       "    <tr>\n",
       "      <th>0</th>\n",
       "      <td>ID_Mrbi2k_Jan</td>\n",
       "      <td>2024</td>\n",
       "      <td>Jan</td>\n",
       "      <td>/content/drive/MyDrive/all_images_s2/s2_Rubber...</td>\n",
       "      <td>Rubber</td>\n",
       "      <td>3</td>\n",
       "      <td>ID_Mrbi2k</td>\n",
       "      <td>ID_Mrbi2k</td>\n",
       "      <td>POLYGON ((-7.47662 4.79479, -7.47672 4.7947, -...</td>\n",
       "      <td>1.006299e-06</td>\n",
       "      <td>0.004596</td>\n",
       "      <td>0.598582</td>\n",
       "      <td>-7.476488</td>\n",
       "      <td>4.794230</td>\n",
       "      <td>68</td>\n",
       "      <td>Rubber</td>\n",
       "      <td>Mrbi2k</td>\n",
       "      <td>2024</td>\n",
       "      <td>01</td>\n",
       "      <td>0.000219</td>\n",
       "      <td>Jan</td>\n",
       "      <td>True</td>\n",
       "    </tr>\n",
       "    <tr>\n",
       "      <th>1</th>\n",
       "      <td>ID_ORmFYt_Jan</td>\n",
       "      <td>2024</td>\n",
       "      <td>Jan</td>\n",
       "      <td>/content/drive/MyDrive/all_images_s2/s2_Rubber...</td>\n",
       "      <td>Rubber</td>\n",
       "      <td>3</td>\n",
       "      <td>ID_ORmFYt</td>\n",
       "      <td>ID_ORmFYt</td>\n",
       "      <td>MULTIPOLYGON (((-7.11499 4.76768, -7.11471 4.7...</td>\n",
       "      <td>2.381542e-07</td>\n",
       "      <td>0.002032</td>\n",
       "      <td>0.724642</td>\n",
       "      <td>-7.114945</td>\n",
       "      <td>4.767335</td>\n",
       "      <td>68</td>\n",
       "      <td>Rubber</td>\n",
       "      <td>ORmFYt</td>\n",
       "      <td>2024</td>\n",
       "      <td>01</td>\n",
       "      <td>0.000117</td>\n",
       "      <td>Jan</td>\n",
       "      <td>True</td>\n",
       "    </tr>\n",
       "    <tr>\n",
       "      <th>2</th>\n",
       "      <td>ID_2j2bjN_Jan</td>\n",
       "      <td>2024</td>\n",
       "      <td>Jan</td>\n",
       "      <td>/content/drive/MyDrive/all_images_s2/s2_Rubber...</td>\n",
       "      <td>Rubber</td>\n",
       "      <td>3</td>\n",
       "      <td>ID_2j2bjN</td>\n",
       "      <td>ID_2j2bjN</td>\n",
       "      <td>MULTIPOLYGON (((-7.09768 4.90044, -7.09732 4.9...</td>\n",
       "      <td>2.659545e-07</td>\n",
       "      <td>0.002180</td>\n",
       "      <td>0.703360</td>\n",
       "      <td>-7.097499</td>\n",
       "      <td>4.900095</td>\n",
       "      <td>68</td>\n",
       "      <td>Rubber</td>\n",
       "      <td>2j2bjN</td>\n",
       "      <td>2024</td>\n",
       "      <td>01</td>\n",
       "      <td>0.000122</td>\n",
       "      <td>Jan</td>\n",
       "      <td>True</td>\n",
       "    </tr>\n",
       "    <tr>\n",
       "      <th>3</th>\n",
       "      <td>ID_GsdWS5_Jan</td>\n",
       "      <td>2024</td>\n",
       "      <td>Jan</td>\n",
       "      <td>/content/drive/MyDrive/all_images_s2/s2_Rubber...</td>\n",
       "      <td>Rubber</td>\n",
       "      <td>3</td>\n",
       "      <td>ID_GsdWS5</td>\n",
       "      <td>ID_GsdWS5</td>\n",
       "      <td>MULTIPOLYGON (((-7.11829 4.76918, -7.11714 4.7...</td>\n",
       "      <td>8.467027e-07</td>\n",
       "      <td>0.004213</td>\n",
       "      <td>0.599510</td>\n",
       "      <td>-7.117723</td>\n",
       "      <td>4.768831</td>\n",
       "      <td>68</td>\n",
       "      <td>Rubber</td>\n",
       "      <td>GsdWS5</td>\n",
       "      <td>2024</td>\n",
       "      <td>01</td>\n",
       "      <td>0.000201</td>\n",
       "      <td>Jan</td>\n",
       "      <td>True</td>\n",
       "    </tr>\n",
       "    <tr>\n",
       "      <th>4</th>\n",
       "      <td>ID_zEYtR5_Jan</td>\n",
       "      <td>2024</td>\n",
       "      <td>Jan</td>\n",
       "      <td>/content/drive/MyDrive/all_images_s2/s2_Rubber...</td>\n",
       "      <td>Rubber</td>\n",
       "      <td>3</td>\n",
       "      <td>ID_zEYtR5</td>\n",
       "      <td>ID_zEYtR5</td>\n",
       "      <td>POLYGON ((-7.51713 4.66244, -7.51711 4.66249, ...</td>\n",
       "      <td>5.250636e-07</td>\n",
       "      <td>0.002963</td>\n",
       "      <td>0.751780</td>\n",
       "      <td>-7.516597</td>\n",
       "      <td>4.662075</td>\n",
       "      <td>68</td>\n",
       "      <td>Rubber</td>\n",
       "      <td>zEYtR5</td>\n",
       "      <td>2024</td>\n",
       "      <td>01</td>\n",
       "      <td>0.000177</td>\n",
       "      <td>Jan</td>\n",
       "      <td>True</td>\n",
       "    </tr>\n",
       "  </tbody>\n",
       "</table>\n",
       "</div>"
      ],
      "text/plain": [
       "              ID  year month  \\\n",
       "0  ID_Mrbi2k_Jan  2024   Jan   \n",
       "1  ID_ORmFYt_Jan  2024   Jan   \n",
       "2  ID_2j2bjN_Jan  2024   Jan   \n",
       "3  ID_GsdWS5_Jan  2024   Jan   \n",
       "4  ID_zEYtR5_Jan  2024   Jan   \n",
       "\n",
       "                                             tifPath  Target  class  \\\n",
       "0  /content/drive/MyDrive/all_images_s2/s2_Rubber...  Rubber      3   \n",
       "1  /content/drive/MyDrive/all_images_s2/s2_Rubber...  Rubber      3   \n",
       "2  /content/drive/MyDrive/all_images_s2/s2_Rubber...  Rubber      3   \n",
       "3  /content/drive/MyDrive/all_images_s2/s2_Rubber...  Rubber      3   \n",
       "4  /content/drive/MyDrive/all_images_s2/s2_Rubber...  Rubber      3   \n",
       "\n",
       "     base_id     ID_geo                                           geometry  \\\n",
       "0  ID_Mrbi2k  ID_Mrbi2k  POLYGON ((-7.47662 4.79479, -7.47672 4.7947, -...   \n",
       "1  ID_ORmFYt  ID_ORmFYt  MULTIPOLYGON (((-7.11499 4.76768, -7.11471 4.7...   \n",
       "2  ID_2j2bjN  ID_2j2bjN  MULTIPOLYGON (((-7.09768 4.90044, -7.09732 4.9...   \n",
       "3  ID_GsdWS5  ID_GsdWS5  MULTIPOLYGON (((-7.11829 4.76918, -7.11714 4.7...   \n",
       "4  ID_zEYtR5  ID_zEYtR5  POLYGON ((-7.51713 4.66244, -7.51711 4.66249, ...   \n",
       "\n",
       "           area  perimeter  compactness  centroid_x  centroid_y  path_length  \\\n",
       "0  1.006299e-06   0.004596     0.598582   -7.476488    4.794230           68   \n",
       "1  2.381542e-07   0.002032     0.724642   -7.114945    4.767335           68   \n",
       "2  2.659545e-07   0.002180     0.703360   -7.097499    4.900095           68   \n",
       "3  8.467027e-07   0.004213     0.599510   -7.117723    4.768831           68   \n",
       "4  5.250636e-07   0.002963     0.751780   -7.516597    4.662075           68   \n",
       "\n",
       "  image_crop image_id image_year image_month  area_perimeter_ratio month_cat  \\\n",
       "0     Rubber   Mrbi2k       2024          01              0.000219       Jan   \n",
       "1     Rubber   ORmFYt       2024          01              0.000117       Jan   \n",
       "2     Rubber   2j2bjN       2024          01              0.000122       Jan   \n",
       "3     Rubber   GsdWS5       2024          01              0.000201       Jan   \n",
       "4     Rubber   zEYtR5       2024          01              0.000177       Jan   \n",
       "\n",
       "   month_Jan  \n",
       "0       True  \n",
       "1       True  \n",
       "2       True  \n",
       "3       True  \n",
       "4       True  "
      ]
     },
     "metadata": {},
     "output_type": "display_data"
    }
   ],
   "source": [
    "# Create additional derived features\n",
    "\n",
    "# Calculate the area to perimeter ratio\n",
    "gdf['area_perimeter_ratio'] = gdf['area'] / gdf['perimeter']\n",
    "\n",
    "# Create a categorical feature for month\n",
    "gdf['month_cat'] = gdf['month']\n",
    "\n",
    "# Create a one-hot encoding for month\n",
    "month_dummies = pd.get_dummies(gdf['month_cat'], prefix='month')\n",
    "gdf = pd.concat([gdf, month_dummies], axis=1)\n",
    "\n",
    "# Display the final intermediate dataset\n",
    "print(\"\\nFinal Intermediate dataset:\")\n",
    "display(gdf.head())"
   ]
  },
  {
   "cell_type": "code",
   "execution_count": 48,
   "id": "419a8403",
   "metadata": {},
   "outputs": [
    {
     "data": {
      "image/png": "[encoded data removed]",
      "text/plain": [
       "<Figure size 1800x600 with 3 Axes>"
      ]
     },
     "metadata": {},
     "output_type": "display_data"
    }
   ],
   "source": [
    "# Analyze the geometry features by crop type\n",
    "plt.figure(figsize=(18, 6))\n",
    "\n",
    "plt.subplot(1, 3, 1)\n",
    "sns.boxplot(x='Target', y='area', data=gdf)\n",
    "plt.title('Area by Crop Type')\n",
    "plt.xticks(rotation=45)\n",
    "\n",
    "plt.subplot(1, 3, 2)\n",
    "sns.boxplot(x='Target', y='perimeter', data=gdf)\n",
    "plt.title('Perimeter by Crop Type')\n",
    "plt.xticks(rotation=45)\n",
    "\n",
    "plt.subplot(1, 3, 3)\n",
    "sns.boxplot(x='Target', y='compactness', data=gdf)\n",
    "plt.title('Compactness by Crop Type')\n",
    "plt.xticks(rotation=45)\n",
    "\n",
    "plt.tight_layout()\n",
    "plt.savefig(intermediate_dir / 'geometric_features_by_crop.png')\n",
    "plt.show()"
   ]
  },
  {
   "cell_type": "code",
   "execution_count": 49,
   "id": "a42f4854",
   "metadata": {},
   "outputs": [
    {
     "name": "stdout",
     "output_type": "stream",
     "text": [
      "Intermediate data saved to intermediate_data\n"
     ]
    }
   ],
   "source": [
    "# Save the intermediate dataset\n",
    "gdf.to_csv(intermediate_dir / 'intermediate_train.csv', index=False)\n",
    "\n",
    "# Also save as GeoJSON for spatial analysis\n",
    "gdf.to_file(intermediate_dir / 'intermediate_train.geojson', driver='GeoJSON')\n",
    "\n",
    "# Enhance test data with the same features\n",
    "intermediate_test = test_geo.copy()\n",
    "intermediate_test['area'] = intermediate_test['geometry'].apply(lambda geom: geom.area if geom else None)\n",
    "intermediate_test['perimeter'] = intermediate_test['geometry'].apply(lambda geom: geom.length if geom else None)\n",
    "intermediate_test['compactness'] = intermediate_test.apply(\n",
    "    lambda row: 4 * np.pi * row['area'] / (row['perimeter'] ** 2) if row['perimeter'] and row['area'] else None, \n",
    "    axis=1\n",
    ")\n",
    "intermediate_test['centroid_x'] = intermediate_test['geometry'].apply(lambda geom: geom.centroid.x if geom else None)\n",
    "intermediate_test['centroid_y'] = intermediate_test['geometry'].apply(lambda geom: geom.centroid.y if geom else None)\n",
    "intermediate_test['area_perimeter_ratio'] = intermediate_test['area'] / intermediate_test['perimeter']\n",
    "\n",
    "# Save the intermediate test data\n",
    "intermediate_test.to_file(intermediate_dir / 'intermediate_test.geojson', driver='GeoJSON')\n",
    "\n",
    "print(f\"Intermediate data saved to {intermediate_dir}\")\n",
    "\n",
    "# Save a summary of intermediate features\n",
    "with open(intermediate_dir / 'intermediate_features_summary.txt', 'w') as f:\n",
    "    f.write(\"Geometric Features Added:\\n\")\n",
    "    f.write(\"- area: Area of the field polygon\\n\")\n",
    "    f.write(\"- perimeter: Perimeter of the field polygon\\n\")\n",
    "    f.write(\"- compactness: 4*pi * area / perimeter² (measure of how circular the field is)\\n\")\n",
    "    f.write(\"- centroid_x, centroid_y: Coordinates of the field centroid\\n\")\n",
    "    f.write(\"- area_perimeter_ratio: Area divided by perimeter\\n\\n\")\n",
    "    \n",
    "    f.write(\"Path Features Added:\\n\")\n",
    "    f.write(\"- path_length: Length of the image path string\\n\")\n",
    "    f.write(\"- image_crop: Crop type extracted from the image filename\\n\")\n",
    "    f.write(\"- image_id: ID extracted from the image filename\\n\")\n",
    "    f.write(\"- image_year: Year extracted from the image filename\\n\")\n",
    "    f.write(\"- image_month: Month extracted from the image filename\\n\\n\")\n",
    "    \n",
    "    f.write(\"One-hot Encoded Features:\\n\")\n",
    "    f.write(\"- month_Jan: Flag for January\\n\")"
   ]
  },
  {
   "cell_type": "markdown",
   "id": "6fe07431",
   "metadata": {},
   "source": [
    "## Advanced Data Processing with Spatial Neighborhood Analysis\n",
    "\n",
    "This section implements advanced feature engineering using spatial neighborhood analysis, which extracts information from nearby fields to create powerful predictive features."
   ]
  },
  {
   "cell_type": "code",
   "execution_count": 50,
   "id": "b21f8f14",
   "metadata": {},
   "outputs": [
    {
     "name": "stdout",
     "output_type": "stream",
     "text": [
      "Advanced data placeholder created in advanced_data\n"
     ]
    }
   ],
   "source": [
    "# Create a placeholder for advanced data processing\n",
    "with open(advanced_dir / 'advanced_processing_notes.txt', 'w') as f:\n",
    "    f.write(\"# Advanced Data Processing - To Be Implemented\\n\\n\")\n",
    "    f.write(\"This section will include more advanced data processing such as:\\n\\n\")\n",
    "    f.write(\"1. Extraction of spectral indices from Sentinel-2 satellite imagery\\n\")\n",
    "    f.write(\"2. Texture analysis of satellite imagery\\n\")\n",
    "    f.write(\"3. Time series analysis for multi-temporal imagery\\n\")\n",
    "    f.write(\"4. Context features (proximity to other fields, roads, water bodies)\\n\")\n",
    "    f.write(\"5. Deep learning feature extraction using pre-trained models\\n\")\n",
    "    f.write(\"6. Climate and soil data integration\\n\")\n",
    "    f.write(\"7. Advanced geometric features (fractal dimension, shape complexity)\\n\")\n",
    "\n",
    "print(f\"Advanced data placeholder created in {advanced_dir}\")"
   ]
  },
  {
   "cell_type": "markdown",
   "id": "b260af53",
   "metadata": {},
   "source": [
    "## Summary\n",
    "\n",
    "This notebook has prepared three levels of data complexity for the Zindi Agriculture competition:\n",
    "\n",
    "1. **Basic data**: Original dataset organized with minimal processing\n",
    "2. **Intermediate data**: Enhanced with geometric features and additional derived features\n",
    "3. **Advanced data**: Placeholder for more sophisticated features to be implemented later\n",
    "\n",
    "Each level is saved in its respective directory for further use in modeling and analysis."
   ]
  }
 ],
 "metadata": {
  "kernelspec": {
   "display_name": ".venv",
   "language": "python",
   "name": "python3"
  },
  "language_info": {
   "codemirror_mode": {
    "name": "ipython",
    "version": 3
   },
   "file_extension": ".py",
   "mimetype": "text/x-python",
   "name": "python",
   "nbconvert_exporter": "python",
   "pygments_lexer": "ipython3",
   "version": "3.12.10"
  }
 },
 "nbformat": 4,
 "nbformat_minor": 5
}
